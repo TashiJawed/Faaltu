{
 "cells": [
  {
   "cell_type": "code",
   "execution_count": 4,
   "metadata": {},
   "outputs": [],
   "source": [
    "from bs4 import BeautifulSoup"
   ]
  },
  {
   "cell_type": "code",
   "execution_count": 5,
   "metadata": {},
   "outputs": [],
   "source": [
    "import requests"
   ]
  },
  {
   "cell_type": "code",
   "execution_count": 47,
   "metadata": {},
   "outputs": [],
   "source": [
    "import csv\n",
    "\n",
    "import os\n",
    "if os.path.exists(\"whatmobileScrapper.csv\"):\n",
    "  os.remove(\"whatmobileScrapper.csv\")\n",
    "\n",
    "def insertRow(list):\n",
    "    with open('whatmobileScrapper.csv','a') as f:\n",
    "        handler = csv.writer(f,delimiter = \",\")\n",
    "        handler.writerow(list)\n",
    "        \n",
    "def scrape(source):        \n",
    "    soup = BeautifulSoup(source, 'lxml')\n",
    "    table = soup.find('tbody')      \n",
    "    mobile = []\n",
    "    mobile.append(soup.find('h1',class_='hdng3').text)\n",
    "    mobile.append(soup.find('td',class_='fasla RowBG1 bottom-border-section right-border specs-subHeading').text)\n",
    "    mobile.append(\"\")\n",
    "    insertRow(mobile)\n",
    "    data = []\n",
    "    for row in table.find_all('tr'):            \n",
    "        class_name = row.get('class')\n",
    "    #     print(class_name)\n",
    "        if class_name[0] == 'RowBG2':\n",
    "            data = []\n",
    "            td = row.find('td',class_='hdngArial specs-mainHeading bottom-border-section').text\n",
    "            data.append(td)\n",
    "            th = row.find('th').text\n",
    "            data.append(th)\n",
    "            td = row.find('td',class_='fasla RowBG1 specs-value bottom-border').text\n",
    "            data.append(td)\n",
    "            insertRow(data)\n",
    "        if class_name[0] == 'RowBG1': \n",
    "            data = []\n",
    "            data.append(\"\")\n",
    "            th = row.find('th').text\n",
    "            data.append(th)\n",
    "            td = row.find('td').text\n",
    "            data.append(td)\n",
    "            insertRow(data)\n",
    "#1\n",
    "source = requests.get('https://www.whatmobile.com.pk/Samsung_Galaxy-A30').text\n",
    "scrape(source)\n",
    "#2\n",
    "source = requests.get('https://www.whatmobile.com.pk/Samsung_Galaxy-A50').text\n",
    "scrape(source)\n",
    "#3\n",
    "source = requests.get('https://www.whatmobile.com.pk/Samsung_Galaxy-A70').text\n",
    "scrape(source)\n",
    "#4\n",
    "source = requests.get('https://www.whatmobile.com.pk/Oppo_Reno').text\n",
    "scrape(source)\n",
    "#5\n",
    "source = requests.get('https://www.whatmobile.com.pk/Apple_iphone-7').text\n",
    "scrape(source)\n",
    "#6\n",
    "source = requests.get('https://www.whatmobile.com.pk/Apple_iphone-8').text\n",
    "scrape(source)\n",
    "#7\n",
    "source = requests.get('https://www.whatmobile.com.pk/Apple_iphone-X').text\n",
    "scrape(source)\n",
    "#8\n",
    "source = requests.get('https://www.whatmobile.com.pk/LG_Nexus-5').text\n",
    "scrape(source)\n",
    "\n",
    "        "
   ]
  },
  {
   "cell_type": "code",
   "execution_count": null,
   "metadata": {},
   "outputs": [],
   "source": []
  }
 ],
 "metadata": {
  "kernelspec": {
   "display_name": "Python 3",
   "language": "python",
   "name": "python3"
  },
  "language_info": {
   "codemirror_mode": {
    "name": "ipython",
    "version": 3
   },
   "file_extension": ".py",
   "mimetype": "text/x-python",
   "name": "python",
   "nbconvert_exporter": "python",
   "pygments_lexer": "ipython3",
   "version": "3.7.3"
  }
 },
 "nbformat": 4,
 "nbformat_minor": 2
}
